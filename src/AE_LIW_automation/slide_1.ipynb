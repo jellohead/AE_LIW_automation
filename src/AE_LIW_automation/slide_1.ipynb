{
 "cells": [
  {
   "metadata": {},
   "cell_type": "markdown",
   "source": "### AE_LIW_automation",
   "id": "b285afd723ac38ec"
  },
  {
   "cell_type": "code",
   "id": "initial_id",
   "metadata": {
    "collapsed": true,
    "ExecuteTime": {
     "end_time": "2025-02-12T02:56:39.905265Z",
     "start_time": "2025-02-12T02:56:39.825709Z"
    }
   },
   "source": [
    "import pandas as pd\n",
    "import pyreadstat\n",
    "import pptx\n",
    "from pptx import Presentation\n",
    "from pptx.util import Pt\n",
    "from config import DATASET_FILE_PATH, PPTX_INPUT_FILE\n",
    "from helper_modules import read_data\n",
    "from helper_modules import get_chart_object_by_name\n",
    "from helper_modules import get_chart_categories\n",
    "\n",
    "df, meta, df_labeled = read_data(DATASET_FILE_PATH)\n",
    "\n",
    "prs = Presentation(PPTX_INPUT_FILE)\n",
    "# slide_index = 0\n",
    "# slide = prs.slides[slide_index]\n",
    "slide_index = 49\n",
    "slide = prs.slides[slide_index]\n",
    "chart = get_chart_object_by_name(slide, 'Chart 6')\n",
    "old_categories = get_chart_categories(chart)\n",
    "old_categories_cleaned = []\n",
    "for category in old_categories:\n",
    "    old_categories_cleaned.append(category.strip())\n",
    "\n",
    "print(f'{old_categories = }')\n",
    "print(f'{old_categories_cleaned = }')\n",
    "\n",
    "category_label_order = []\n",
    "d11_value_labels = meta.variable_value_labels.get('D11')\n",
    "for category in old_categories_cleaned:\n",
    "    for k, v in d11_value_labels.items():\n",
    "        if category in v:\n",
    "            category_label_order.append(k)\n",
    "\n",
    "print(f'{category_label_order = }')\n",
    "\n",
    "# meta.variable_value_labels.get('D11', {})\n",
    "\n",
    "# chart = get_chart_object_by_name(slide, 'Rectangle 2')\n",
    "# print(chart.textboxs[0].text)\n"
   ],
   "outputs": [
    {
     "name": "stdout",
     "output_type": "stream",
     "text": [
      "old_categories = ['Income Qualified Assistance', 'Low Income Weatherization ', 'Low Income Home Upgrade', 'Don’t know']\n",
      "old_categories_cleaned = ['Income Qualified Assistance', 'Low Income Weatherization', 'Low Income Home Upgrade', 'Don’t know']\n",
      "category_label_order = [2.0, 1.0, 3.0, 4.0]\n"
     ]
    }
   ],
   "execution_count": 27
  },
  {
   "metadata": {},
   "cell_type": "code",
   "outputs": [],
   "execution_count": null,
   "source": "",
   "id": "f3ecce15f4ceadab"
  }
 ],
 "metadata": {
  "kernelspec": {
   "display_name": "Python 3",
   "language": "python",
   "name": "python3"
  },
  "language_info": {
   "codemirror_mode": {
    "name": "ipython",
    "version": 2
   },
   "file_extension": ".py",
   "mimetype": "text/x-python",
   "name": "python",
   "nbconvert_exporter": "python",
   "pygments_lexer": "ipython2",
   "version": "2.7.6"
  }
 },
 "nbformat": 4,
 "nbformat_minor": 5
}
