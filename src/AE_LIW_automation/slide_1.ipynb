{
 "cells": [
  {
   "metadata": {},
   "cell_type": "markdown",
   "source": "### AE_LIW_automation",
   "id": "b285afd723ac38ec"
  },
  {
   "cell_type": "code",
   "id": "initial_id",
   "metadata": {
    "collapsed": true,
    "ExecuteTime": {
     "end_time": "2025-02-11T00:41:05.045406Z",
     "start_time": "2025-02-11T00:41:04.946157Z"
    }
   },
   "source": [
    "import pandas as pd\n",
    "import pyreadstat\n",
    "import pptx\n",
    "from pptx import Presentation\n",
    "from pptx.util import Pt\n",
    "from config import DATASET_FILE_PATH, PPTX_INPUT_FILE\n",
    "from helper_modules import read_data\n",
    "from helper_modules import get_chart_object_by_name\n",
    "\n",
    "df, meta, df_labeled = read_data(DATASET_FILE_PATH)\n",
    "\n",
    "prs = Presentation(PPTX_INPUT_FILE)\n",
    "slide_index = 0\n",
    "slide = prs.slides[slide_index]\n",
    "\n",
    "chart = get_chart_object_by_name(slide, 'Rectangle 2')\n",
    "print(chart.textboxs[0].text)\n"
   ],
   "outputs": [
    {
     "ename": "AttributeError",
     "evalue": "'NoneType' object has no attribute 'textboxs'",
     "output_type": "error",
     "traceback": [
      "\u001B[0;31m---------------------------------------------------------------------------\u001B[0m",
      "\u001B[0;31mAttributeError\u001B[0m                            Traceback (most recent call last)",
      "Cell \u001B[0;32mIn[4], line 17\u001B[0m\n\u001B[1;32m     14\u001B[0m slide \u001B[38;5;241m=\u001B[39m prs\u001B[38;5;241m.\u001B[39mslides[slide_index]\n\u001B[1;32m     16\u001B[0m chart \u001B[38;5;241m=\u001B[39m get_chart_object_by_name(slide, \u001B[38;5;124m'\u001B[39m\u001B[38;5;124mRectangle 2\u001B[39m\u001B[38;5;124m'\u001B[39m)\n\u001B[0;32m---> 17\u001B[0m \u001B[38;5;28mprint\u001B[39m(\u001B[43mchart\u001B[49m\u001B[38;5;241;43m.\u001B[39;49m\u001B[43mtextboxs\u001B[49m[\u001B[38;5;241m0\u001B[39m]\u001B[38;5;241m.\u001B[39mtext)\n",
      "\u001B[0;31mAttributeError\u001B[0m: 'NoneType' object has no attribute 'textboxs'"
     ]
    }
   ],
   "execution_count": 4
  },
  {
   "metadata": {},
   "cell_type": "code",
   "outputs": [],
   "execution_count": null,
   "source": "",
   "id": "f3ecce15f4ceadab"
  }
 ],
 "metadata": {
  "kernelspec": {
   "display_name": "Python 3",
   "language": "python",
   "name": "python3"
  },
  "language_info": {
   "codemirror_mode": {
    "name": "ipython",
    "version": 2
   },
   "file_extension": ".py",
   "mimetype": "text/x-python",
   "name": "python",
   "nbconvert_exporter": "python",
   "pygments_lexer": "ipython2",
   "version": "2.7.6"
  }
 },
 "nbformat": 4,
 "nbformat_minor": 5
}
