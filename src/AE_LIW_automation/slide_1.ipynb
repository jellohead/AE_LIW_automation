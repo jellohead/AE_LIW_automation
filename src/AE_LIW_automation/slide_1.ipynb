{
 "cells": [
  {
   "metadata": {},
   "cell_type": "markdown",
   "source": "### AE_LIW_automation",
   "id": "b285afd723ac38ec"
  },
  {
   "cell_type": "code",
   "id": "initial_id",
   "metadata": {
    "collapsed": true,
    "ExecuteTime": {
     "end_time": "2025-02-12T02:56:39.905265Z",
     "start_time": "2025-02-12T02:56:39.825709Z"
    }
   },
   "source": [
    "import pandas as pd\n",
    "import pyreadstat\n",
    "import pptx\n",
    "from pptx import Presentation\n",
    "from pptx.util import Pt\n",
    "from config import DATASET_FILE_PATH, PPTX_INPUT_FILE\n",
    "from helper_modules import read_data\n",
    "from helper_modules import get_chart_object_by_name\n",
    "from helper_modules import get_chart_categories\n",
    "\n",
    "df, meta, df_labeled = read_data(DATASET_FILE_PATH)\n",
    "\n",
    "prs = Presentation(PPTX_INPUT_FILE)\n",
    "# slide_index = 0\n",
    "# slide = prs.slides[slide_index]\n",
    "slide_index = 49\n",
    "slide = prs.slides[slide_index]\n",
    "chart = get_chart_object_by_name(slide, 'Chart 6')\n",
    "old_categories = get_chart_categories(chart)\n",
    "old_categories_cleaned = []\n",
    "for category in old_categories:\n",
    "    old_categories_cleaned.append(category.strip())\n",
    "\n",
    "print(f'{old_categories = }')\n",
    "print(f'{old_categories_cleaned = }')\n",
    "\n",
    "category_label_order = []\n",
    "d11_value_labels = meta.variable_value_labels.get('D11')\n",
    "for category in old_categories_cleaned:\n",
    "    for k, v in d11_value_labels.items():\n",
    "        if category in v:\n",
    "            category_label_order.append(k)\n",
    "\n",
    "print(f'{category_label_order = }')\n",
    "\n",
    "# meta.variable_value_labels.get('D11', {})\n",
    "\n",
    "# chart = get_chart_object_by_name(slide, 'Rectangle 2')\n",
    "# print(chart.textboxs[0].text)\n"
   ],
   "outputs": [
    {
     "name": "stdout",
     "output_type": "stream",
     "text": [
      "old_categories = ['Income Qualified Assistance', 'Low Income Weatherization ', 'Low Income Home Upgrade', 'Don’t know']\n",
      "old_categories_cleaned = ['Income Qualified Assistance', 'Low Income Weatherization', 'Low Income Home Upgrade', 'Don’t know']\n",
      "category_label_order = [2.0, 1.0, 3.0, 4.0]\n"
     ]
    }
   ],
   "execution_count": 27
  },
  {
   "metadata": {},
   "cell_type": "code",
   "outputs": [],
   "execution_count": null,
   "source": "",
   "id": "f3ecce15f4ceadab"
  },
  {
   "metadata": {
    "ExecuteTime": {
     "end_time": "2025-02-12T03:22:28.780312Z",
     "start_time": "2025-02-12T03:22:28.776710Z"
    }
   },
   "cell_type": "code",
   "source": [
    "# df['Q18'].dropna().apply(lambda x: 'TopBox' in x)\n",
    "q18_TopBox_result = (df['Q18']\n",
    "                         .dropna()\n",
    "                         .apply(lambda x: 'TopBox'if x in [8, 9, 10] else 'BottomBox')\n",
    "                         .value_counts(normalize=True)\n",
    "                         )['TopBox']\n",
    "print(f'{q18_TopBox_result = }')\n",
    "\n",
    "q18_result = df['Q18'].value_counts(normalize=True)\n",
    "print(f'{q18_result = }')"
   ],
   "id": "f62d8ec9f74d482f",
   "outputs": [
    {
     "name": "stdout",
     "output_type": "stream",
     "text": [
      "q18_TopBox_result = np.float64(0.9393939393939394)\n",
      "q18_result = Q18\n",
      "10.0    0.939394\n",
      "4.0     0.030303\n",
      "5.0     0.030303\n",
      "Name: proportion, dtype: float64\n"
     ]
    }
   ],
   "execution_count": 30
  },
  {
   "metadata": {},
   "cell_type": "markdown",
   "source": [
    "### Slide 8\n",
    "### Update a PowerPoint table\n"
   ],
   "id": "f89510ac43144798"
  },
  {
   "metadata": {
    "jupyter": {
     "is_executing": true
    },
    "ExecuteTime": {
     "start_time": "2025-02-13T14:16:37.428292Z"
    }
   },
   "cell_type": "code",
   "source": [
    "# slide_8.py\n",
    "# update the data table on slide 8\n",
    "from pandas import DataFrame\n",
    "import pandas as pd\n",
    "from pptx import Presentation\n",
    "from helper_modules import get_table_object, read_data\n",
    "from config import REPORTING_PERIOD, REPORTING_YEAR, CURRENT_MONTH_TEXT, CURRENT_YEAR\n",
    "from config import DATASET_FILE_PATH, PPTX_INPUT_FILE, PPTX_OUTPUT_FILE\n",
    "\n",
    "\n",
    "def main():\n",
    "    print('slide_8_updater')\n",
    "\n",
    "    df, meta, df_labeled = read_data(DATASET_FILE_PATH)\n",
    "    prs = Presentation(PPTX_INPUT_FILE)\n",
    "\n",
    "    slide_index = 7\n",
    "    slide = prs.slides[slide_index]\n",
    "\n",
    "    table = get_table_object(slide)\n",
    "    if not table:\n",
    "        print('No table found on Slide 8')\n",
    "        return\n",
    "    # print(table)\n",
    "\n",
    "    # extract table dimensions\n",
    "    num_rows = len(table.rows)\n",
    "    num_cols = len(table.columns)\n",
    "\n",
    "    # Initialize variable to store table data\n",
    "    table_data = [[cell.text.strip() for cell in row.cells] for row in table.rows]\n",
    "    table_df: DataFrame = pd.DataFrame(table_data[1:], columns=table_data[0])\n",
    "    table_df.set_index(table_df.columns[0], inplace=True)\n",
    "    print(f'{table_df = }')\n",
    "\n",
    "    # drop oldest quarter data\n",
    "    table_df_current = table_df.drop(table_df.columns[0], axis=1)\n",
    "    print(f'{table_df_current = }')\n",
    "\n",
    "\n",
    "    q19_result = df['Q19'].dropna().value_counts()\n",
    "    q19_df =pd.DataFrame({f'{REPORTING_PERIOD} {REPORTING_YEAR}': q19_result}).fillna(0)\n",
    "\n",
    "    print(f'{q19_df = }')\n",
    "\n",
    "    # # d = {f'{REPORTING_PERIOD} {REPORTING_YEAR}': q19_result}\n",
    "    #\n",
    "    # q19_df_combined = pd.concat([table_df, q19_df], axis=1).fillna(0)\n",
    "    #\n",
    "    # updated_rows, updated_cols = q19_df_combined.shape\n",
    "    #\n",
    "    # # Resize table if necessary\n",
    "    # while len(table.rows) < updated_rows + 1:  # +1 to account for header\n",
    "    #     table.add_row()\n",
    "    # while len(table.columns) < updated_cols + 1:  # +1 to account for index\n",
    "    #     table.add_column()\n",
    "    #\n",
    "    # # Update table headers\n",
    "    # for col_idx, col_name in enumerate(q19_df_combined.columns, start=1):  # Start at 1 to skip index column\n",
    "    #     table.cell(0, col_idx).text = col_name\n",
    "    #\n",
    "    # # Update table contents\n",
    "    # for row_idx, (index_name, row_values) in enumerate(q19_df_combined.iterrows(), start=1):  # Skip header row\n",
    "    #     table.cell(row_idx, 0).text = str(index_name)  # Update index column\n",
    "    #     for col_idx, value in enumerate(row_values, start=1):\n",
    "    #         table.cell(row_idx, col_idx).text = str(int(value))  # Convert float to int for clean formatting\n",
    "\n",
    "    print(\"\\nSlide 8 table updated successfully.\")\n",
    "\n",
    "    # # Extract data row by row\n",
    "    # for row in table.rows:\n",
    "    #     row_data = [cell.text.strip() for cell in row.cells]  # Get row values\n",
    "    #     table_data.append(row_data)  # Append row to list\n",
    "    # # print(f'{type(table_data) = }')\n",
    "    #\n",
    "    # # Convert table data to a DataFrame\n",
    "    # # print(f'{table_df = }')\n",
    "    #\n",
    "    # # print(f'{table_df_current = }')\n",
    "    #\n",
    "    #\n",
    "    # # print(f'{q19_result = }')\n",
    "    # # print(q19_result)\n",
    "    #\n",
    "    # q19_df = pd.DataFrame(data=d)\n",
    "    # # print(f'{q19_df['Q4 2024'] = }')\n",
    "    # q19_df = q19_df.drop(q19_df.index[0])\n",
    "    #\n",
    "    # # print(f'{q19_df = }')\n",
    "    #\n",
    "    # # table_df_current_joined = table_df.join(table_df_current)\n",
    "    # # print(f'{table_df_current_joined = }')\n",
    "    #\n",
    "    # q19_df_combined = pd.concat([table_df_current, q19_df], axis=1).fillna(0)\n",
    "    # print(f'{q19_df_combined = }')\n",
    "    # # # Display DataFrame\n",
    "    # # import ace_tools as tools\n",
    "    # # tools.display_dataframe_to_user(name=\"Extracted Table\", dataframe=df)\n",
    "    #\n",
    "    # # pull data from existing table\n",
    "    #\n",
    "    # # drop oldest quarter of data\n",
    "    #\n",
    "    # # update table with new quarter data\n",
    "    #\n",
    "    # # replace table data with updated\n",
    "    #\n",
    "\n",
    "if __name__ == '__main__':\n",
    "    main()\n"
   ],
   "id": "709ea3fa52b900c0",
   "outputs": [
    {
     "name": "stdout",
     "output_type": "stream",
     "text": [
      "slide_8_updater\n",
      "table_df =                                                    Q4 2023 Q1 2024 Q2 2024  \\\n",
      "                                                                             \n",
      "Good number                                              0       0       1   \n",
      "Over advertisement of the program                        0       1       0   \n",
      "There are more things being high priority like ...       1       0       0   \n",
      "It’s important for folks who need it, not for t...       1       0       0   \n",
      "Don't know                                               0       0       1   \n",
      "Base:                                                    2       1       2   \n",
      "\n",
      "                                                   Q3 2024  \n",
      "                                                            \n",
      "Good number                                              0  \n",
      "Over advertisement of the program                        0  \n",
      "There are more things being high priority like ...       0  \n",
      "It’s important for folks who need it, not for t...       0  \n",
      "Don't know                                               0  \n",
      "Base:                                                    0  \n",
      "table_df_current =                                                    Q1 2024 Q2 2024 Q3 2024\n",
      "                                                                          \n",
      "Good number                                              0       1       0\n",
      "Over advertisement of the program                        1       0       0\n",
      "There are more things being high priority like ...       0       0       0\n",
      "It’s important for folks who need it, not for t...       0       0       0\n",
      "Don't know                                               0       1       0\n",
      "Base:                                                    1       2       0\n"
     ]
    }
   ],
   "execution_count": null
  },
  {
   "metadata": {
    "ExecuteTime": {
     "end_time": "2025-02-13T12:54:16.491575Z",
     "start_time": "2025-02-13T12:54:16.486940Z"
    }
   },
   "cell_type": "code",
   "source": "",
   "id": "1294a7306bf6b9be",
   "outputs": [],
   "execution_count": null
  },
  {
   "metadata": {
    "ExecuteTime": {
     "end_time": "2025-02-13T13:53:36.560418Z",
     "start_time": "2025-02-13T13:53:33.783820Z"
    }
   },
   "cell_type": "code",
   "source": "print('all done')",
   "id": "dbf60cd3c9f9ee4d",
   "outputs": [
    {
     "ename": "KeyboardInterrupt",
     "evalue": "",
     "output_type": "error",
     "traceback": [
      "\u001B[0;31m---------------------------------------------------------------------------\u001B[0m",
      "\u001B[0;31mKeyboardInterrupt\u001B[0m                         Traceback (most recent call last)",
      "Cell \u001B[0;32mIn[9], line 1\u001B[0m\n\u001B[0;32m----> 1\u001B[0m \u001B[38;5;28mprint\u001B[39m(\u001B[38;5;124m'\u001B[39m\u001B[38;5;124mall done\u001B[39m\u001B[38;5;124m'\u001B[39m)\n",
      "File \u001B[0;32m_pydevd_bundle/pydevd_cython_darwin_312_64.pyx:1187\u001B[0m, in \u001B[0;36m_pydevd_bundle.pydevd_cython_darwin_312_64.SafeCallWrapper.__call__\u001B[0;34m()\u001B[0m\n",
      "File \u001B[0;32m_pydevd_bundle/pydevd_cython_darwin_312_64.pyx:627\u001B[0m, in \u001B[0;36m_pydevd_bundle.pydevd_cython_darwin_312_64.PyDBFrame.trace_dispatch\u001B[0;34m()\u001B[0m\n",
      "File \u001B[0;32m_pydevd_bundle/pydevd_cython_darwin_312_64.pyx:937\u001B[0m, in \u001B[0;36m_pydevd_bundle.pydevd_cython_darwin_312_64.PyDBFrame.trace_dispatch\u001B[0;34m()\u001B[0m\n",
      "File \u001B[0;32m_pydevd_bundle/pydevd_cython_darwin_312_64.pyx:928\u001B[0m, in \u001B[0;36m_pydevd_bundle.pydevd_cython_darwin_312_64.PyDBFrame.trace_dispatch\u001B[0;34m()\u001B[0m\n",
      "File \u001B[0;32m_pydevd_bundle/pydevd_cython_darwin_312_64.pyx:585\u001B[0m, in \u001B[0;36m_pydevd_bundle.pydevd_cython_darwin_312_64.PyDBFrame.do_wait_suspend\u001B[0;34m()\u001B[0m\n",
      "File \u001B[0;32m/Applications/PyCharm.app/Contents/plugins/python-ce/helpers/pydev/pydevd.py:1220\u001B[0m, in \u001B[0;36mPyDB.do_wait_suspend\u001B[0;34m(self, thread, frame, event, arg, send_suspend_message, is_unhandled_exception)\u001B[0m\n\u001B[1;32m   1217\u001B[0m         from_this_thread\u001B[38;5;241m.\u001B[39mappend(frame_id)\n\u001B[1;32m   1219\u001B[0m \u001B[38;5;28;01mwith\u001B[39;00m \u001B[38;5;28mself\u001B[39m\u001B[38;5;241m.\u001B[39m_threads_suspended_single_notification\u001B[38;5;241m.\u001B[39mnotify_thread_suspended(thread_id, stop_reason):\n\u001B[0;32m-> 1220\u001B[0m     \u001B[38;5;28;43mself\u001B[39;49m\u001B[38;5;241;43m.\u001B[39;49m\u001B[43m_do_wait_suspend\u001B[49m\u001B[43m(\u001B[49m\u001B[43mthread\u001B[49m\u001B[43m,\u001B[49m\u001B[43m \u001B[49m\u001B[43mframe\u001B[49m\u001B[43m,\u001B[49m\u001B[43m \u001B[49m\u001B[43mevent\u001B[49m\u001B[43m,\u001B[49m\u001B[43m \u001B[49m\u001B[43marg\u001B[49m\u001B[43m,\u001B[49m\u001B[43m \u001B[49m\u001B[43msuspend_type\u001B[49m\u001B[43m,\u001B[49m\u001B[43m \u001B[49m\u001B[43mfrom_this_thread\u001B[49m\u001B[43m)\u001B[49m\n",
      "File \u001B[0;32m/Applications/PyCharm.app/Contents/plugins/python-ce/helpers/pydev/pydevd.py:1235\u001B[0m, in \u001B[0;36mPyDB._do_wait_suspend\u001B[0;34m(self, thread, frame, event, arg, suspend_type, from_this_thread)\u001B[0m\n\u001B[1;32m   1232\u001B[0m             \u001B[38;5;28mself\u001B[39m\u001B[38;5;241m.\u001B[39m_call_mpl_hook()\n\u001B[1;32m   1234\u001B[0m         \u001B[38;5;28mself\u001B[39m\u001B[38;5;241m.\u001B[39mprocess_internal_commands()\n\u001B[0;32m-> 1235\u001B[0m         \u001B[43mtime\u001B[49m\u001B[38;5;241;43m.\u001B[39;49m\u001B[43msleep\u001B[49m\u001B[43m(\u001B[49m\u001B[38;5;241;43m0.01\u001B[39;49m\u001B[43m)\u001B[49m\n\u001B[1;32m   1237\u001B[0m \u001B[38;5;28mself\u001B[39m\u001B[38;5;241m.\u001B[39mcancel_async_evaluation(get_current_thread_id(thread), \u001B[38;5;28mstr\u001B[39m(\u001B[38;5;28mid\u001B[39m(frame)))\n\u001B[1;32m   1239\u001B[0m \u001B[38;5;66;03m# process any stepping instructions\u001B[39;00m\n",
      "\u001B[0;31mKeyboardInterrupt\u001B[0m: "
     ]
    }
   ],
   "execution_count": 9
  }
 ],
 "metadata": {
  "kernelspec": {
   "display_name": "Python 3",
   "language": "python",
   "name": "python3"
  },
  "language_info": {
   "codemirror_mode": {
    "name": "ipython",
    "version": 2
   },
   "file_extension": ".py",
   "mimetype": "text/x-python",
   "name": "python",
   "nbconvert_exporter": "python",
   "pygments_lexer": "ipython2",
   "version": "2.7.6"
  }
 },
 "nbformat": 4,
 "nbformat_minor": 5
}
