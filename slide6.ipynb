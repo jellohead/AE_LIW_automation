{
 "cells": [
  {
   "metadata": {},
   "cell_type": "markdown",
   "source": "### Slide 6 automation",
   "id": "fa14790b7924b9f5"
  },
  {
   "metadata": {
    "ExecuteTime": {
     "end_time": "2024-11-19T03:17:39.228987Z",
     "start_time": "2024-11-19T03:17:39.190671Z"
    }
   },
   "cell_type": "code",
   "source": [
    "import pandas as pd\n",
    "import pyreadstat\n",
    "import openpyxl\n",
    "from pptx import Presentation\n",
    "\n",
    "\n",
    "\n",
    "df, meta = pyreadstat.read_sav('/Users/patescalona/Projects/Coding/Python/report_automation/AE_LIW_automation/resources/9751 Low Income Weatherization FY24Q3.sav')\n",
    "df_labeled = pyreadstat.set_value_labels(df, meta)\n",
    "\n",
    "pptx_input_file = '/Users/patescalona/Projects/Coding/Python/report_automation/AE_LIW_automation/resources/9711 LIW Report FY2024 Q2 07192024.pptx'\n",
    "\n"
   ],
   "id": "ac497a21e6652b8c",
   "outputs": [],
   "execution_count": 13
  }
 ],
 "metadata": {
  "kernelspec": {
   "display_name": "Python 3",
   "language": "python",
   "name": "python3"
  },
  "language_info": {
   "codemirror_mode": {
    "name": "ipython",
    "version": 2
   },
   "file_extension": ".py",
   "mimetype": "text/x-python",
   "name": "python",
   "nbconvert_exporter": "python",
   "pygments_lexer": "ipython2",
   "version": "2.7.6"
  }
 },
 "nbformat": 4,
 "nbformat_minor": 5
}
